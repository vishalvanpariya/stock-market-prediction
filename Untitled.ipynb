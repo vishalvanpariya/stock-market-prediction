{
 "cells": [
  {
   "cell_type": "code",
   "execution_count": 1,
   "metadata": {},
   "outputs": [],
   "source": [
    "import pandas as pd\n",
    "import numpy as np\n",
    "import seaborn as sns\n",
    "import matplotlib.pyplot as plt"
   ]
  },
  {
   "cell_type": "code",
   "execution_count": 2,
   "metadata": {},
   "outputs": [],
   "source": [
    "df=pd.read_csv('AAPL.csv')"
   ]
  },
  {
   "cell_type": "code",
   "execution_count": 3,
   "metadata": {},
   "outputs": [
    {
     "data": {
      "text/html": [
       "<div>\n",
       "<style scoped>\n",
       "    .dataframe tbody tr th:only-of-type {\n",
       "        vertical-align: middle;\n",
       "    }\n",
       "\n",
       "    .dataframe tbody tr th {\n",
       "        vertical-align: top;\n",
       "    }\n",
       "\n",
       "    .dataframe thead th {\n",
       "        text-align: right;\n",
       "    }\n",
       "</style>\n",
       "<table border=\"1\" class=\"dataframe\">\n",
       "  <thead>\n",
       "    <tr style=\"text-align: right;\">\n",
       "      <th></th>\n",
       "      <th>Unnamed: 0</th>\n",
       "      <th>symbol</th>\n",
       "      <th>date</th>\n",
       "      <th>close</th>\n",
       "      <th>high</th>\n",
       "      <th>low</th>\n",
       "      <th>open</th>\n",
       "      <th>volume</th>\n",
       "      <th>adjClose</th>\n",
       "      <th>adjHigh</th>\n",
       "      <th>adjLow</th>\n",
       "      <th>adjOpen</th>\n",
       "      <th>adjVolume</th>\n",
       "      <th>divCash</th>\n",
       "      <th>splitFactor</th>\n",
       "    </tr>\n",
       "  </thead>\n",
       "  <tbody>\n",
       "    <tr>\n",
       "      <th>0</th>\n",
       "      <td>0</td>\n",
       "      <td>AAPL</td>\n",
       "      <td>2015-05-27 00:00:00+00:00</td>\n",
       "      <td>132.045</td>\n",
       "      <td>132.260</td>\n",
       "      <td>130.05</td>\n",
       "      <td>130.34</td>\n",
       "      <td>45833246</td>\n",
       "      <td>121.682558</td>\n",
       "      <td>121.880685</td>\n",
       "      <td>119.844118</td>\n",
       "      <td>120.111360</td>\n",
       "      <td>45833246</td>\n",
       "      <td>0.0</td>\n",
       "      <td>1.0</td>\n",
       "    </tr>\n",
       "    <tr>\n",
       "      <th>1</th>\n",
       "      <td>1</td>\n",
       "      <td>AAPL</td>\n",
       "      <td>2015-05-28 00:00:00+00:00</td>\n",
       "      <td>131.780</td>\n",
       "      <td>131.950</td>\n",
       "      <td>131.10</td>\n",
       "      <td>131.86</td>\n",
       "      <td>30733309</td>\n",
       "      <td>121.438354</td>\n",
       "      <td>121.595013</td>\n",
       "      <td>120.811718</td>\n",
       "      <td>121.512076</td>\n",
       "      <td>30733309</td>\n",
       "      <td>0.0</td>\n",
       "      <td>1.0</td>\n",
       "    </tr>\n",
       "    <tr>\n",
       "      <th>2</th>\n",
       "      <td>2</td>\n",
       "      <td>AAPL</td>\n",
       "      <td>2015-05-29 00:00:00+00:00</td>\n",
       "      <td>130.280</td>\n",
       "      <td>131.450</td>\n",
       "      <td>129.90</td>\n",
       "      <td>131.23</td>\n",
       "      <td>50884452</td>\n",
       "      <td>120.056069</td>\n",
       "      <td>121.134251</td>\n",
       "      <td>119.705890</td>\n",
       "      <td>120.931516</td>\n",
       "      <td>50884452</td>\n",
       "      <td>0.0</td>\n",
       "      <td>1.0</td>\n",
       "    </tr>\n",
       "    <tr>\n",
       "      <th>3</th>\n",
       "      <td>3</td>\n",
       "      <td>AAPL</td>\n",
       "      <td>2015-06-01 00:00:00+00:00</td>\n",
       "      <td>130.535</td>\n",
       "      <td>131.390</td>\n",
       "      <td>130.05</td>\n",
       "      <td>131.20</td>\n",
       "      <td>32112797</td>\n",
       "      <td>120.291057</td>\n",
       "      <td>121.078960</td>\n",
       "      <td>119.844118</td>\n",
       "      <td>120.903870</td>\n",
       "      <td>32112797</td>\n",
       "      <td>0.0</td>\n",
       "      <td>1.0</td>\n",
       "    </tr>\n",
       "    <tr>\n",
       "      <th>4</th>\n",
       "      <td>4</td>\n",
       "      <td>AAPL</td>\n",
       "      <td>2015-06-02 00:00:00+00:00</td>\n",
       "      <td>129.960</td>\n",
       "      <td>130.655</td>\n",
       "      <td>129.32</td>\n",
       "      <td>129.86</td>\n",
       "      <td>33667627</td>\n",
       "      <td>119.761181</td>\n",
       "      <td>120.401640</td>\n",
       "      <td>119.171406</td>\n",
       "      <td>119.669029</td>\n",
       "      <td>33667627</td>\n",
       "      <td>0.0</td>\n",
       "      <td>1.0</td>\n",
       "    </tr>\n",
       "  </tbody>\n",
       "</table>\n",
       "</div>"
      ],
      "text/plain": [
       "   Unnamed: 0 symbol                       date    close     high     low  \\\n",
       "0           0   AAPL  2015-05-27 00:00:00+00:00  132.045  132.260  130.05   \n",
       "1           1   AAPL  2015-05-28 00:00:00+00:00  131.780  131.950  131.10   \n",
       "2           2   AAPL  2015-05-29 00:00:00+00:00  130.280  131.450  129.90   \n",
       "3           3   AAPL  2015-06-01 00:00:00+00:00  130.535  131.390  130.05   \n",
       "4           4   AAPL  2015-06-02 00:00:00+00:00  129.960  130.655  129.32   \n",
       "\n",
       "     open    volume    adjClose     adjHigh      adjLow     adjOpen  \\\n",
       "0  130.34  45833246  121.682558  121.880685  119.844118  120.111360   \n",
       "1  131.86  30733309  121.438354  121.595013  120.811718  121.512076   \n",
       "2  131.23  50884452  120.056069  121.134251  119.705890  120.931516   \n",
       "3  131.20  32112797  120.291057  121.078960  119.844118  120.903870   \n",
       "4  129.86  33667627  119.761181  120.401640  119.171406  119.669029   \n",
       "\n",
       "   adjVolume  divCash  splitFactor  \n",
       "0   45833246      0.0          1.0  \n",
       "1   30733309      0.0          1.0  \n",
       "2   50884452      0.0          1.0  \n",
       "3   32112797      0.0          1.0  \n",
       "4   33667627      0.0          1.0  "
      ]
     },
     "execution_count": 3,
     "metadata": {},
     "output_type": "execute_result"
    }
   ],
   "source": [
    "df.head()"
   ]
  },
  {
   "cell_type": "code",
   "execution_count": 4,
   "metadata": {},
   "outputs": [],
   "source": [
    "df1=df.reset_index()['close']"
   ]
  },
  {
   "cell_type": "code",
   "execution_count": 5,
   "metadata": {},
   "outputs": [
    {
     "data": {
      "text/plain": [
       "0    132.045\n",
       "1    131.780\n",
       "2    130.280\n",
       "3    130.535\n",
       "4    129.960\n",
       "Name: close, dtype: float64"
      ]
     },
     "execution_count": 5,
     "metadata": {},
     "output_type": "execute_result"
    }
   ],
   "source": [
    "df1.head()"
   ]
  },
  {
   "cell_type": "code",
   "execution_count": 6,
   "metadata": {},
   "outputs": [
    {
     "data": {
      "text/plain": [
       "[<matplotlib.lines.Line2D at 0x2380a147608>]"
      ]
     },
     "execution_count": 6,
     "metadata": {},
     "output_type": "execute_result"
    },
    {
     "data": {
      "image/png": "[encoded data removed]",
      "text/plain": [
       "<Figure size 432x288 with 1 Axes>"
      ]
     },
     "metadata": {
      "needs_background": "light"
     },
     "output_type": "display_data"
    }
   ],
   "source": [
    "plt.plot(df1)"
   ]
  },
  {
   "cell_type": "code",
   "execution_count": 7,
   "metadata": {},
   "outputs": [
    {
     "data": {
      "text/plain": [
       "RangeIndex(start=0, stop=1258, step=1)"
      ]
     },
     "execution_count": 7,
     "metadata": {},
     "output_type": "execute_result"
    }
   ],
   "source": [
    "df1.index"
   ]
  },
  {
   "cell_type": "code",
   "execution_count": 8,
   "metadata": {},
   "outputs": [
    {
     "data": {
      "text/plain": [
       "<matplotlib.axes._subplots.AxesSubplot at 0x2380b702f08>"
      ]
     },
     "execution_count": 8,
     "metadata": {},
     "output_type": "execute_result"
    },
    {
     "data": {
      "image/png": "[encoded data removed]",
      "text/plain": [
       "<Figure size 432x288 with 1 Axes>"
      ]
     },
     "metadata": {
      "needs_background": "light"
     },
     "output_type": "display_data"
    }
   ],
   "source": [
    "sns.lineplot(y=df1,x=range(1258))"
   ]
  },
  {
   "cell_type": "code",
   "execution_count": 9,
   "metadata": {},
   "outputs": [
    {
     "data": {
      "text/plain": [
       "array([[0.17607447],\n",
       "       [0.17495567],\n",
       "       [0.16862282],\n",
       "       ...,\n",
       "       [0.96635143],\n",
       "       [0.9563033 ],\n",
       "       [0.96491598]])"
      ]
     },
     "execution_count": 9,
     "metadata": {},
     "output_type": "execute_result"
    }
   ],
   "source": [
    "from sklearn.preprocessing import MinMaxScaler\n",
    "scaler=MinMaxScaler(feature_range=(0,1))\n",
    "df1=scaler.fit_transform(np.array(df1).reshape(-1,1))\n",
    "df1"
   ]
  },
  {
   "cell_type": "code",
   "execution_count": 10,
   "metadata": {},
   "outputs": [
    {
     "data": {
      "text/plain": [
       "(1258, 1)"
      ]
     },
     "execution_count": 10,
     "metadata": {},
     "output_type": "execute_result"
    }
   ],
   "source": [
    "df1.shape"
   ]
  },
  {
   "cell_type": "code",
   "execution_count": 11,
   "metadata": {},
   "outputs": [],
   "source": [
    "train_size=int(len(df1)*0.65)\n",
    "test_size=len(df1)-train_size\n",
    "train_data,test_data=df1[:train_size],df1[train_size:]"
   ]
  },
  {
   "cell_type": "code",
   "execution_count": 12,
   "metadata": {},
   "outputs": [
    {
     "name": "stdout",
     "output_type": "stream",
     "text": [
      "(817, 1)\n"
     ]
    },
    {
     "data": {
      "text/plain": [
       "(441, 1)"
      ]
     },
     "execution_count": 12,
     "metadata": {},
     "output_type": "execute_result"
    }
   ],
   "source": [
    "print(train_data.shape)\n",
    "test_data.shape"
   ]
  },
  {
   "cell_type": "code",
   "execution_count": 13,
   "metadata": {},
   "outputs": [],
   "source": [
    "def create_dataset(dataset,time_step=1):\n",
    "    datax,datay=[],[]\n",
    "    for i in range(len(dataset)-time_step):\n",
    "        a=dataset[i:(i+time_step),0]\n",
    "        datax.append(a)\n",
    "        datay.append(dataset[i+time_step,0])\n",
    "    return np.array(datax),np.array(datay)"
   ]
  },
  {
   "cell_type": "code",
   "execution_count": 14,
   "metadata": {},
   "outputs": [],
   "source": [
    "time_step=100\n",
    "x_train,y_train=create_dataset(train_data,time_step)\n",
    "x_test,y_test=create_dataset(test_data,time_step)"
   ]
  },
  {
   "cell_type": "code",
   "execution_count": 15,
   "metadata": {},
   "outputs": [
    {
     "data": {
      "text/plain": [
       "((717, 100), (341, 100))"
      ]
     },
     "execution_count": 15,
     "metadata": {},
     "output_type": "execute_result"
    }
   ],
   "source": [
    "x_train.shape,x_test.shape"
   ]
  },
  {
   "cell_type": "code",
   "execution_count": 16,
   "metadata": {},
   "outputs": [],
   "source": [
    "x_train=x_train.reshape(x_train.shape[0],x_train.shape[1],1)\n",
    "x_test=x_test.reshape(x_test.shape[0],x_test.shape[1],1)"
   ]
  },
  {
   "cell_type": "code",
   "execution_count": 17,
   "metadata": {},
   "outputs": [
    {
     "data": {
      "text/plain": [
       "(717, 100, 1)"
      ]
     },
     "execution_count": 17,
     "metadata": {},
     "output_type": "execute_result"
    }
   ],
   "source": [
    "x_train.shape"
   ]
  },
  {
   "cell_type": "code",
   "execution_count": 18,
   "metadata": {},
   "outputs": [],
   "source": [
    "from tensorflow.keras.layers import LSTM,Dense\n",
    "from tensorflow.keras.models import Sequential"
   ]
  },
  {
   "cell_type": "code",
   "execution_count": 19,
   "metadata": {},
   "outputs": [
    {
     "name": "stdout",
     "output_type": "stream",
     "text": [
      "Model: \"sequential\"\n",
      "_________________________________________________________________\n",
      "Layer (type)                 Output Shape              Param #   \n",
      "=================================================================\n",
      "lstm (LSTM)                  (None, 100, 50)           10400     \n",
      "_________________________________________________________________\n",
      "lstm_1 (LSTM)                (None, 100, 50)           20200     \n",
      "_________________________________________________________________\n",
      "lstm_2 (LSTM)                (None, 50)                20200     \n",
      "_________________________________________________________________\n",
      "dense (Dense)                (None, 1)                 51        \n",
      "=================================================================\n",
      "Total params: 50,851\n",
      "Trainable params: 50,851\n",
      "Non-trainable params: 0\n",
      "_________________________________________________________________\n"
     ]
    }
   ],
   "source": [
    "model=Sequential([\n",
    "    LSTM(50,return_sequences=50,input_shape=(100,1)),\n",
    "    LSTM(50,return_sequences=50),\n",
    "    LSTM(50),\n",
    "    Dense(1)\n",
    "])\n",
    "model.compile(loss='mean_squared_error',optimizer='adam')\n",
    "model.summary()"
   ]
  },
  {
   "cell_type": "code",
   "execution_count": 20,
   "metadata": {
    "scrolled": false
   },
   "outputs": [
    {
     "name": "stdout",
     "output_type": "stream",
     "text": [
      "Train on 717 samples, validate on 341 samples\n",
      "Epoch 1/100\n",
      "717/717 [==============================] - 14s 20ms/sample - loss: 0.0180 - val_loss: 0.0600\n",
      "Epoch 2/100\n",
      "717/717 [==============================] - 3s 5ms/sample - loss: 0.0040 - val_loss: 0.0038\n",
      "Epoch 3/100\n",
      "717/717 [==============================] - 4s 5ms/sample - loss: 0.0011 - val_loss: 0.0036\n",
      "Epoch 4/100\n",
      "717/717 [==============================] - 3s 5ms/sample - loss: 7.0882e-04 - val_loss: 0.0035\n",
      "Epoch 5/100\n",
      "717/717 [==============================] - 3s 5ms/sample - loss: 5.8503e-04 - val_loss: 0.0040\n",
      "Epoch 6/100\n",
      "717/717 [==============================] - 3s 4ms/sample - loss: 5.5341e-04 - val_loss: 0.0033\n",
      "Epoch 7/100\n",
      "717/717 [==============================] - 3s 4ms/sample - loss: 5.3158e-04 - val_loss: 0.0035\n",
      "Epoch 8/100\n",
      "717/717 [==============================] - 3s 5ms/sample - loss: 5.4993e-04 - val_loss: 0.0032\n",
      "Epoch 9/100\n",
      "717/717 [==============================] - 3s 4ms/sample - loss: 5.2452e-04 - val_loss: 0.0031\n",
      "Epoch 10/100\n",
      "717/717 [==============================] - 3s 4ms/sample - loss: 5.1682e-04 - val_loss: 0.0031\n",
      "Epoch 11/100\n",
      "717/717 [==============================] - 3s 5ms/sample - loss: 5.0590e-04 - val_loss: 0.0030\n",
      "Epoch 12/100\n",
      "717/717 [==============================] - 3s 5ms/sample - loss: 5.0757e-04 - val_loss: 0.0030\n",
      "Epoch 13/100\n",
      "717/717 [==============================] - 3s 5ms/sample - loss: 5.3570e-04 - val_loss: 0.0030\n",
      "Epoch 14/100\n",
      "717/717 [==============================] - 3s 5ms/sample - loss: 5.2210e-04 - val_loss: 0.0029\n",
      "Epoch 15/100\n",
      "717/717 [==============================] - 3s 5ms/sample - loss: 4.9930e-04 - val_loss: 0.0029\n",
      "Epoch 16/100\n",
      "717/717 [==============================] - 3s 5ms/sample - loss: 4.9129e-04 - val_loss: 0.0034\n",
      "Epoch 17/100\n",
      "717/717 [==============================] - 3s 5ms/sample - loss: 5.4682e-04 - val_loss: 0.0034\n",
      "Epoch 18/100\n",
      "717/717 [==============================] - 3s 4ms/sample - loss: 5.9890e-04 - val_loss: 0.0030\n",
      "Epoch 19/100\n",
      "717/717 [==============================] - 3s 5ms/sample - loss: 5.8488e-04 - val_loss: 0.0026\n",
      "Epoch 20/100\n",
      "717/717 [==============================] - 3s 5ms/sample - loss: 5.4694e-04 - val_loss: 0.0025\n",
      "Epoch 21/100\n",
      "717/717 [==============================] - 3s 5ms/sample - loss: 4.7459e-04 - val_loss: 0.0023\n",
      "Epoch 22/100\n",
      "717/717 [==============================] - 3s 5ms/sample - loss: 4.5261e-04 - val_loss: 0.0024\n",
      "Epoch 23/100\n",
      "717/717 [==============================] - 3s 5ms/sample - loss: 4.4923e-04 - val_loss: 0.0023\n",
      "Epoch 24/100\n",
      "717/717 [==============================] - 4s 5ms/sample - loss: 4.3618e-04 - val_loss: 0.0021\n",
      "Epoch 25/100\n",
      "717/717 [==============================] - 3s 5ms/sample - loss: 4.0976e-04 - val_loss: 0.0022\n",
      "Epoch 26/100\n",
      "717/717 [==============================] - 3s 5ms/sample - loss: 4.0842e-04 - val_loss: 0.0020\n",
      "Epoch 27/100\n",
      "717/717 [==============================] - 3s 5ms/sample - loss: 4.1748e-04 - val_loss: 0.0021\n",
      "Epoch 28/100\n",
      "717/717 [==============================] - 3s 5ms/sample - loss: 4.4032e-04 - val_loss: 0.0028\n",
      "Epoch 29/100\n",
      "717/717 [==============================] - 3s 5ms/sample - loss: 4.5758e-04 - val_loss: 0.0022\n",
      "Epoch 30/100\n",
      "717/717 [==============================] - 3s 5ms/sample - loss: 4.1934e-04 - val_loss: 0.0018\n",
      "Epoch 31/100\n",
      "717/717 [==============================] - 3s 5ms/sample - loss: 4.1752e-04 - val_loss: 0.0021\n",
      "Epoch 32/100\n",
      "717/717 [==============================] - 3s 5ms/sample - loss: 3.9422e-04 - val_loss: 0.0017\n",
      "Epoch 33/100\n",
      "717/717 [==============================] - 3s 5ms/sample - loss: 3.8239e-04 - val_loss: 0.0022\n",
      "Epoch 34/100\n",
      "717/717 [==============================] - 3s 5ms/sample - loss: 3.8427e-04 - val_loss: 0.0017\n",
      "Epoch 35/100\n",
      "717/717 [==============================] - 3s 5ms/sample - loss: 3.5563e-04 - val_loss: 0.0016\n",
      "Epoch 36/100\n",
      "717/717 [==============================] - 3s 5ms/sample - loss: 3.4698e-04 - val_loss: 0.0024\n",
      "Epoch 37/100\n",
      "717/717 [==============================] - 3s 5ms/sample - loss: 4.3455e-04 - val_loss: 0.0015\n",
      "Epoch 38/100\n",
      "717/717 [==============================] - 3s 5ms/sample - loss: 3.6707e-04 - val_loss: 0.0022\n",
      "Epoch 39/100\n",
      "717/717 [==============================] - 3s 5ms/sample - loss: 3.4390e-04 - val_loss: 0.0014\n",
      "Epoch 40/100\n",
      "717/717 [==============================] - 3s 5ms/sample - loss: 3.3377e-04 - val_loss: 0.0018\n",
      "Epoch 41/100\n",
      "717/717 [==============================] - 3s 5ms/sample - loss: 3.4058e-04 - val_loss: 0.0016\n",
      "Epoch 42/100\n",
      "717/717 [==============================] - 3s 5ms/sample - loss: 3.3033e-04 - val_loss: 0.0014\n",
      "Epoch 43/100\n",
      "717/717 [==============================] - 3s 5ms/sample - loss: 3.6002e-04 - val_loss: 0.0017\n",
      "Epoch 44/100\n",
      "717/717 [==============================] - 4s 5ms/sample - loss: 3.6745e-04 - val_loss: 0.0021\n",
      "Epoch 45/100\n",
      "717/717 [==============================] - 3s 5ms/sample - loss: 3.3008e-04 - val_loss: 0.0016\n",
      "Epoch 46/100\n",
      "717/717 [==============================] - 3s 5ms/sample - loss: 3.2134e-04 - val_loss: 0.0014\n",
      "Epoch 47/100\n",
      "717/717 [==============================] - 3s 5ms/sample - loss: 3.0529e-04 - val_loss: 0.0016\n",
      "Epoch 48/100\n",
      "717/717 [==============================] - 3s 5ms/sample - loss: 2.9136e-04 - val_loss: 0.0018\n",
      "Epoch 49/100\n",
      "717/717 [==============================] - 3s 5ms/sample - loss: 2.9857e-04 - val_loss: 0.0017\n",
      "Epoch 50/100\n",
      "717/717 [==============================] - 3s 5ms/sample - loss: 2.9678e-04 - val_loss: 0.0015\n",
      "Epoch 51/100\n",
      "717/717 [==============================] - 3s 5ms/sample - loss: 2.9305e-04 - val_loss: 0.0014\n",
      "Epoch 52/100\n",
      "717/717 [==============================] - 3s 5ms/sample - loss: 2.9803e-04 - val_loss: 0.0014\n",
      "Epoch 53/100\n",
      "717/717 [==============================] - 3s 5ms/sample - loss: 2.7587e-04 - val_loss: 0.0018\n",
      "Epoch 54/100\n",
      "717/717 [==============================] - 3s 5ms/sample - loss: 2.9403e-04 - val_loss: 0.0014\n",
      "Epoch 55/100\n",
      "717/717 [==============================] - 3s 5ms/sample - loss: 2.7352e-04 - val_loss: 0.0023\n",
      "Epoch 56/100\n",
      "717/717 [==============================] - 3s 5ms/sample - loss: 2.8928e-04 - val_loss: 0.0014\n",
      "Epoch 57/100\n",
      "717/717 [==============================] - 3s 5ms/sample - loss: 2.6969e-04 - val_loss: 0.0014\n",
      "Epoch 58/100\n",
      "717/717 [==============================] - 3s 5ms/sample - loss: 2.5905e-04 - val_loss: 0.0014\n",
      "Epoch 59/100\n",
      "717/717 [==============================] - 3s 5ms/sample - loss: 2.5689e-04 - val_loss: 0.0013\n",
      "Epoch 60/100\n",
      "717/717 [==============================] - 3s 5ms/sample - loss: 2.7547e-04 - val_loss: 0.0015\n",
      "Epoch 61/100\n",
      "717/717 [==============================] - 3s 5ms/sample - loss: 2.4692e-04 - val_loss: 0.0014\n",
      "Epoch 62/100\n",
      "717/717 [==============================] - 3s 5ms/sample - loss: 2.7218e-04 - val_loss: 0.0026\n",
      "Epoch 63/100\n",
      "717/717 [==============================] - 3s 4ms/sample - loss: 2.6531e-04 - val_loss: 0.0013\n",
      "Epoch 64/100\n",
      "717/717 [==============================] - 4s 6ms/sample - loss: 2.4617e-04 - val_loss: 0.0014\n",
      "Epoch 65/100\n",
      "717/717 [==============================] - 4s 6ms/sample - loss: 2.3799e-04 - val_loss: 0.0014\n",
      "Epoch 66/100\n",
      "717/717 [==============================] - 3s 5ms/sample - loss: 2.3216e-04 - val_loss: 0.0015\n",
      "Epoch 67/100\n",
      "717/717 [==============================] - 3s 5ms/sample - loss: 2.2816e-04 - val_loss: 0.0013\n",
      "Epoch 68/100\n",
      "717/717 [==============================] - 3s 5ms/sample - loss: 2.2016e-04 - val_loss: 0.0014\n",
      "Epoch 69/100\n",
      "717/717 [==============================] - 3s 5ms/sample - loss: 2.3292e-04 - val_loss: 0.0012\n",
      "Epoch 70/100\n",
      "717/717 [==============================] - 3s 5ms/sample - loss: 2.3416e-04 - val_loss: 0.0012\n",
      "Epoch 71/100\n",
      "717/717 [==============================] - 3s 5ms/sample - loss: 2.2492e-04 - val_loss: 0.0012\n",
      "Epoch 72/100\n",
      "717/717 [==============================] - 3s 5ms/sample - loss: 2.1533e-04 - val_loss: 0.0012\n",
      "Epoch 73/100\n",
      "717/717 [==============================] - 3s 5ms/sample - loss: 2.2538e-04 - val_loss: 0.0012\n",
      "Epoch 74/100\n",
      "717/717 [==============================] - 3s 5ms/sample - loss: 2.1633e-04 - val_loss: 0.0012\n",
      "Epoch 75/100\n",
      "717/717 [==============================] - 3s 5ms/sample - loss: 2.1008e-04 - val_loss: 0.0013\n",
      "Epoch 76/100\n"
     ]
    },
    {
     "name": "stdout",
     "output_type": "stream",
     "text": [
      "717/717 [==============================] - 3s 5ms/sample - loss: 1.9718e-04 - val_loss: 0.0011\n",
      "Epoch 77/100\n",
      "717/717 [==============================] - 3s 5ms/sample - loss: 2.0285e-04 - val_loss: 0.0015\n",
      "Epoch 78/100\n",
      "717/717 [==============================] - 3s 5ms/sample - loss: 1.9220e-04 - val_loss: 0.0012\n",
      "Epoch 79/100\n",
      "717/717 [==============================] - 3s 5ms/sample - loss: 1.8396e-04 - val_loss: 0.0012\n",
      "Epoch 80/100\n",
      "717/717 [==============================] - 3s 5ms/sample - loss: 1.8345e-04 - val_loss: 0.0012\n",
      "Epoch 81/100\n",
      "717/717 [==============================] - 3s 5ms/sample - loss: 1.9551e-04 - val_loss: 0.0019\n",
      "Epoch 82/100\n",
      "717/717 [==============================] - 3s 5ms/sample - loss: 2.5026e-04 - val_loss: 0.0012\n",
      "Epoch 83/100\n",
      "717/717 [==============================] - 3s 5ms/sample - loss: 1.9453e-04 - val_loss: 0.0011\n",
      "Epoch 84/100\n",
      "717/717 [==============================] - 4s 5ms/sample - loss: 1.7405e-04 - val_loss: 0.0014\n",
      "Epoch 85/100\n",
      "717/717 [==============================] - 4s 5ms/sample - loss: 2.0204e-04 - val_loss: 0.0012\n",
      "Epoch 86/100\n",
      "717/717 [==============================] - 4s 5ms/sample - loss: 1.9624e-04 - val_loss: 0.0012\n",
      "Epoch 87/100\n",
      "717/717 [==============================] - 3s 5ms/sample - loss: 1.7222e-04 - val_loss: 0.0013\n",
      "Epoch 88/100\n",
      "717/717 [==============================] - 3s 5ms/sample - loss: 1.6368e-04 - val_loss: 0.0011\n",
      "Epoch 89/100\n",
      "717/717 [==============================] - 3s 5ms/sample - loss: 1.7145e-04 - val_loss: 0.0016\n",
      "Epoch 90/100\n",
      "717/717 [==============================] - 3s 5ms/sample - loss: 1.8453e-04 - val_loss: 0.0012\n",
      "Epoch 91/100\n",
      "717/717 [==============================] - 4s 6ms/sample - loss: 1.5760e-04 - val_loss: 0.0015\n",
      "Epoch 92/100\n",
      "717/717 [==============================] - 4s 5ms/sample - loss: 1.5624e-04 - val_loss: 0.0012\n",
      "Epoch 93/100\n",
      "717/717 [==============================] - 4s 5ms/sample - loss: 1.5375e-04 - val_loss: 0.0020\n",
      "Epoch 94/100\n",
      "717/717 [==============================] - 4s 5ms/sample - loss: 1.8059e-04 - val_loss: 0.0010\n",
      "Epoch 95/100\n",
      "717/717 [==============================] - 3s 4ms/sample - loss: 1.6265e-04 - val_loss: 0.0011\n",
      "Epoch 96/100\n",
      "717/717 [==============================] - 3s 4ms/sample - loss: 1.6405e-04 - val_loss: 0.0011\n",
      "Epoch 97/100\n",
      "717/717 [==============================] - 3s 5ms/sample - loss: 1.4769e-04 - val_loss: 0.0014\n",
      "Epoch 98/100\n",
      "717/717 [==============================] - 3s 5ms/sample - loss: 1.6500e-04 - val_loss: 0.0012\n",
      "Epoch 99/100\n",
      "717/717 [==============================] - 4s 5ms/sample - loss: 1.7318e-04 - val_loss: 0.0011\n",
      "Epoch 100/100\n",
      "717/717 [==============================] - 3s 5ms/sample - loss: 1.5966e-04 - val_loss: 0.0011\n"
     ]
    },
    {
     "data": {
      "text/plain": [
       "<tensorflow.python.keras.callbacks.History at 0x23812f43788>"
      ]
     },
     "execution_count": 20,
     "metadata": {},
     "output_type": "execute_result"
    }
   ],
   "source": [
    "model.fit(\n",
    "    x_train,\n",
    "    y_train,\n",
    "    validation_data=(x_test,y_test),\n",
    "    epochs=100,\n",
    "    batch_size=64,\n",
    "    verbose=1\n",
    ")"
   ]
  },
  {
   "cell_type": "code",
   "execution_count": 21,
   "metadata": {},
   "outputs": [],
   "source": [
    "train_predict=model.predict(x_train)\n",
    "test_predict=model.predict(x_test)"
   ]
  },
  {
   "cell_type": "code",
   "execution_count": 22,
   "metadata": {},
   "outputs": [],
   "source": [
    "train_predict=scaler.inverse_transform(train_predict)\n",
    "test_predict=scaler.inverse_transform(test_predict)"
   ]
  },
  {
   "cell_type": "code",
   "execution_count": 23,
   "metadata": {},
   "outputs": [
    {
     "data": {
      "text/plain": [
       "142.12917856333777"
      ]
     },
     "execution_count": 23,
     "metadata": {},
     "output_type": "execute_result"
    }
   ],
   "source": [
    "import math\n",
    "from sklearn.metrics import mean_squared_error\n",
    "math.sqrt(mean_squared_error(y_train,train_predict))"
   ]
  },
  {
   "cell_type": "code",
   "execution_count": 24,
   "metadata": {},
   "outputs": [
    {
     "data": {
      "text/plain": [
       "240.14919429052367"
      ]
     },
     "execution_count": 24,
     "metadata": {},
     "output_type": "execute_result"
    }
   ],
   "source": [
    "math.sqrt(mean_squared_error(y_test,test_predict))"
   ]
  },
  {
   "cell_type": "code",
   "execution_count": 25,
   "metadata": {},
   "outputs": [],
   "source": [
    "trainplot=np.empty_like(df1)\n",
    "trainplot[:,:]=np.nan\n",
    "trainplot[time_step:len(train_predict)+time_step,:]=train_predict"
   ]
  },
  {
   "cell_type": "code",
   "execution_count": 26,
   "metadata": {},
   "outputs": [],
   "source": [
    "testplot=np.empty_like(df1)\n",
    "testplot[:,:]=np.nan\n",
    "testplot[time_step+len(train_predict)+time_step:,:]=test_predict"
   ]
  },
  {
   "cell_type": "code",
   "execution_count": 27,
   "metadata": {},
   "outputs": [
    {
     "data": {
      "text/plain": [
       "array([[         nan],\n",
       "       [         nan],\n",
       "       [         nan],\n",
       "       ...,\n",
       "       [311.29943848],\n",
       "       [315.95422363],\n",
       "       [318.69232178]])"
      ]
     },
     "execution_count": 27,
     "metadata": {},
     "output_type": "execute_result"
    }
   ],
   "source": [
    "testplot"
   ]
  },
  {
   "cell_type": "code",
   "execution_count": 28,
   "metadata": {},
   "outputs": [
    {
     "data": {
      "image/png": "[encoded data removed]",
      "text/plain": [
       "<Figure size 432x288 with 1 Axes>"
      ]
     },
     "metadata": {
      "needs_background": "light"
     },
     "output_type": "display_data"
    }
   ],
   "source": [
    "plt.plot(scaler.inverse_transform(df1))\n",
    "plt.plot(trainplot)\n",
    "plt.plot(testplot)\n",
    "plt.show()"
   ]
  },
  {
   "cell_type": "code",
   "execution_count": 38,
   "metadata": {},
   "outputs": [],
   "source": [
    "dftemp=df1.copy()"
   ]
  },
  {
   "cell_type": "code",
   "execution_count": 39,
   "metadata": {},
   "outputs": [],
   "source": [
    "def get_last100(df):\n",
    "    a=[]\n",
    "    a.append(df[-time_step:])\n",
    "    return np.array(a)"
   ]
  },
  {
   "cell_type": "code",
   "execution_count": 40,
   "metadata": {},
   "outputs": [
    {
     "data": {
      "text/plain": [
       "(1258, 1)"
      ]
     },
     "execution_count": 40,
     "metadata": {},
     "output_type": "execute_result"
    }
   ],
   "source": [
    "dftemp.shape"
   ]
  },
  {
   "cell_type": "code",
   "execution_count": 41,
   "metadata": {},
   "outputs": [],
   "source": [
    "for i in range(30):\n",
    "    tempar=get_last100(dftemp[-100:])\n",
    "    newval=model.predict(tempar)[0][0]\n",
    "    dftemp=np.append(dftemp,[newval])\n",
    "    dftemp=dftemp.reshape(dftemp.shape[0],1)"
   ]
  },
  {
   "cell_type": "code",
   "execution_count": 42,
   "metadata": {},
   "outputs": [
    {
     "data": {
      "text/plain": [
       "(1288, 1)"
      ]
     },
     "execution_count": 42,
     "metadata": {},
     "output_type": "execute_result"
    }
   ],
   "source": [
    "dftemp.shape"
   ]
  },
  {
   "cell_type": "code",
   "execution_count": 46,
   "metadata": {},
   "outputs": [
    {
     "data": {
      "image/png": "[encoded data removed]",
      "text/plain": [
       "<Figure size 432x288 with 1 Axes>"
      ]
     },
     "metadata": {
      "needs_background": "light"
     },
     "output_type": "display_data"
    }
   ],
   "source": [
    "plt.plot(scaler.inverse_transform(dftemp))\n",
    "plt.show()"
   ]
  },
  {
   "cell_type": "code",
   "execution_count": null,
   "metadata": {},
   "outputs": [],
   "source": []
  }
 ],
 "metadata": {
  "kernelspec": {
   "display_name": "tensorflow",
   "language": "python",
   "name": "tensorflow"
  },
  "language_info": {
   "codemirror_mode": {
    "name": "ipython",
    "version": 3
   },
   "file_extension": ".py",
   "mimetype": "text/x-python",
   "name": "python",
   "nbconvert_exporter": "python",
   "pygments_lexer": "ipython3",
   "version": "3.7.7"
  }
 },
 "nbformat": 4,
 "nbformat_minor": 4
}
